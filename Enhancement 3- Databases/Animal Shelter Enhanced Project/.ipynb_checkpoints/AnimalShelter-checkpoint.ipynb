{
 "cells": [
  {
   "cell_type": "code",
   "execution_count": 2,
   "id": "0db3560b-e055-4726-8472-a617bc580dcf",
   "metadata": {},
   "outputs": [
    {
     "name": "stdout",
     "output_type": "stream",
     "text": [
      "Create result: True\n",
      "Number of dogs: 5595\n",
      "Sample dog document: {'_id': ObjectId('66974481f41931cc9d0181ac'), 'rec_num': 3, 'age_upon_outcome': '2 years', 'animal_id': 'A716330', 'animal_type': 'Dog', 'breed': 'Chihuahua Shorthair Mix', 'color': 'Brown/White', 'date_of_birth': '2013-11-18', 'datetime': '2015-12-28 18:43:00', 'monthyear': '2015-12-28T18:43:00', 'name': 'Frank', 'outcome_subtype': '', 'outcome_type': 'Adoption', 'sex_upon_outcome': 'Neutered Male', 'location_lat': 30.7595748121648, 'location_long': -97.5523753807133, 'age_upon_outcome_in_weeks': 110.111408730159}\n"
     ]
    }
   ],
   "source": [
    "# Change to the directory where your animal_shelter.py is located\n",
    "import sys\n",
    "sys.path.append(r'C:\\AnimalShelter')\n",
    "\n",
    "# Import necessary libraries\n",
    "from animal_shelter import AnimalShelter\n",
    "\n",
    "# Create an instance of the AnimalShelter class\n",
    "shelter = AnimalShelter('aacuser', 'password', '127.0.0.1', 27017, 'AAC', 'animals')\n",
    "\n",
    "# Test the create method\n",
    "animal_data = {\n",
    "    \"age_upon_outcome\": \"1 year\",\n",
    "    \"animal_id\": \"A123456\",\n",
    "    \"animal_type\": \"Dog\",\n",
    "    \"breed\": \"Labrador Retriever\",\n",
    "    \"color\": \"Yellow\",\n",
    "    \"date_of_birth\": \"2015-12-01\",\n",
    "    \"datetime\": \"2016-12-01 12:00:00\",\n",
    "    \"name\": \"Buddy\",\n",
    "    \"outcome_subtype\": \"\",\n",
    "    \"outcome_type\": \"Adoption\",\n",
    "    \"sex_upon_outcome\": \"Neutered Male\"\n",
    "}\n",
    "\n",
    "result = shelter.create(animal_data)\n",
    "print(\"Create result:\", result)\n",
    "\n",
    "# Test the read method\n",
    "query = {\"animal_type\": \"Dog\"}\n",
    "dogs = shelter.read(query)\n",
    "print(\"Number of dogs:\", len(dogs))\n",
    "if dogs:  # Check if there is at least one dog\n",
    "    print(\"Sample dog document:\", dogs[0])\n",
    "else:\n",
    "    print(\"No dogs found.\")\n"
   ]
  },
  {
   "cell_type": "code",
   "execution_count": null,
   "id": "313f5062-8f3a-4f04-ba70-6b7a4b816603",
   "metadata": {},
   "outputs": [],
   "source": []
  }
 ],
 "metadata": {
  "kernelspec": {
   "display_name": "Python 3 (ipykernel)",
   "language": "python",
   "name": "python3"
  },
  "language_info": {
   "codemirror_mode": {
    "name": "ipython",
    "version": 3
   },
   "file_extension": ".py",
   "mimetype": "text/x-python",
   "name": "python",
   "nbconvert_exporter": "python",
   "pygments_lexer": "ipython3",
   "version": "3.12.4"
  }
 },
 "nbformat": 4,
 "nbformat_minor": 5
}
